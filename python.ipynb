{
 "cells": [
  {
   "cell_type": "markdown",
   "id": "2560d130",
   "metadata": {},
   "source": [
    "What You're Aiming For\n",
    "The objective is to create a simple calculator application in Python that can perform basic arithmetic operations such as addition, subtraction, multiplication, and division.\n",
    "\n",
    " \n",
    "\n",
    "Description\n",
    "\n",
    "This exercise involves creating a simple calculator app using Python. The app should be able to perform addition, subtraction, multiplication, and division operations. It will prompt the user to input two numbers and an arithmetic operator, then perform the corresponding operation on the numbers and return the result.\n",
    "\n",
    "Example :\n",
    "\n",
    "Input:\n",
    "\n",
    "Enter the first number: 10\n",
    "\n",
    "Enter the second number: 5\n",
    "\n",
    "Enter the operator (+, -, *, /): *\n",
    "\n",
    "Output:\n",
    "\n",
    "The result is: 50\n",
    "\n",
    "\n",
    "Instructions\n",
    " \n",
    "\n",
    "Open a new Python file in your preferred code editor.\n",
    "Define a function called \"calculator\" that takes two arguments, \"num1\" and \"num2\".\n",
    "Within the function, prompt the user to enter an operator (+, -, *, /).\n",
    "Use conditional statements to determine which operation to perform based on the user's input.\n",
    "Return the result of the operation.\n",
    "Call the function calculator with two numbers and print the result.\n",
    "Handle cases where the user inputs invalid operators or tries to divide by zero.\n",
    "Note: \n",
    "\n",
    "You may want to use a \"while\" loop to allow the user to roll the dice multiple times, or to add some messages to make the program more user-friendly."
   ]
  },
  {
   "cell_type": "code",
   "execution_count": 1,
   "id": "d344d589",
   "metadata": {},
   "outputs": [],
   "source": [
    "import random\n",
    "def calculator():\n",
    "    fun = input(\"Would you like a random Operator, Y/N:/n\").capitalize()\n",
    "    \n",
    "    num1 = float(input(\"Enter the your First Number\"))\n",
    "    num2 = float(input('Enter the second Number'))\n",
    "    operate = ['+' , '*',  '-',  '/']\n",
    "    choice = random.choice(operate)\n",
    "\n",
    "\n",
    "    if fun == 'Y':\n",
    "        if choice == '+':\n",
    "                result = num1 + num2\n",
    "                return (f\"The Addition of {num1} and {num2} is {result}\")\n",
    "        elif choice == '-':\n",
    "            result = num1 - num2\n",
    "            return (f\"The Subtraction of {num1} and {num2} is {result}\")\n",
    "        elif choice == \"/\":\n",
    "            if num1 == 0 or num2 == 0:\n",
    "                print('Cannot divide by 0')\n",
    "            else:    \n",
    "                result = num1 / num2\n",
    "            return (f\"The Division of {num1} and {num2} is {result}\")\n",
    "        elif choice == '*':\n",
    "            result = num1 * num2\n",
    "            return (f\"The Division of {num1} and {num2} is {result}\")\n",
    "            \n",
    "    elif fun == \"N\":\n",
    "        first_one= input(\"what would you like to do today:  1. addition (+)/n 2. Subtraction (-)/n3. Division (/)/n 4. Multiplication (*)?N kindly identify with the shape given in the bracket\")\n",
    "        if first_one == \"+\" :\n",
    "            result = num1 + num2\n",
    "            return (f\"The Addition of {num1} and {num2} is {result}\")\n",
    "        elif first_one == \"-\":\n",
    "            result = num1 - num2\n",
    "            return (f\"The Subtraction of {num1} and {num2} is {result}\")\n",
    "        elif first_one == \"/\" :\n",
    "            if num1 == 0 or num2 == 0:\n",
    "                print('Cannot divide by 0')\n",
    "            else:    \n",
    "                result = num1 / num2\n",
    "                return (f\"The Division of {num1} and {num2} is {result}\")\n",
    "        elif first_one == \"*\" :\n",
    "            result = num1 * num2\n",
    "            return (f\"The Division of {num1} and {num2} is {result}\")\n",
    "        else:\n",
    "            print(\"Wrong Operator, Use the Correct Operator\")\n",
    "        \n",
    "            \n",
    "    \n",
    "\n",
    "\n"
   ]
  },
  {
   "cell_type": "code",
   "execution_count": 2,
   "id": "2c23105b",
   "metadata": {},
   "outputs": [
    {
     "data": {
      "text/plain": [
       "'The Division of 6.0 and 7.0 is 0.8571428571428571'"
      ]
     },
     "execution_count": 2,
     "metadata": {},
     "output_type": "execute_result"
    }
   ],
   "source": [
    "calculator()"
   ]
  }
 ],
 "metadata": {
  "kernelspec": {
   "display_name": "Python 3",
   "language": "python",
   "name": "python3"
  },
  "language_info": {
   "codemirror_mode": {
    "name": "ipython",
    "version": 3
   },
   "file_extension": ".py",
   "mimetype": "text/x-python",
   "name": "python",
   "nbconvert_exporter": "python",
   "pygments_lexer": "ipython3",
   "version": "3.13.5"
  }
 },
 "nbformat": 4,
 "nbformat_minor": 5
}
