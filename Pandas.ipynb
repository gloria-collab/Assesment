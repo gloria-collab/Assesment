{
 "cells": [
  {
   "cell_type": "code",
   "execution_count": 14,
   "id": "e88aea3b",
   "metadata": {},
   "outputs": [
    {
     "name": "stdout",
     "output_type": "stream",
     "text": [
      "Defaulting to user installation because normal site-packages is not writeable\n",
      "Requirement already satisfied: pandas in c:\\users\\hp\\appdata\\local\\packages\\pythonsoftwarefoundation.python.3.13_qbz5n2kfra8p0\\localcache\\local-packages\\python313\\site-packages (2.3.1)\n",
      "Requirement already satisfied: numpy>=1.26.0 in c:\\users\\hp\\appdata\\local\\packages\\pythonsoftwarefoundation.python.3.13_qbz5n2kfra8p0\\localcache\\local-packages\\python313\\site-packages (from pandas) (2.2.3)\n",
      "Requirement already satisfied: python-dateutil>=2.8.2 in c:\\users\\hp\\appdata\\local\\packages\\pythonsoftwarefoundation.python.3.13_qbz5n2kfra8p0\\localcache\\local-packages\\python313\\site-packages (from pandas) (2.9.0.post0)\n",
      "Requirement already satisfied: pytz>=2020.1 in c:\\users\\hp\\appdata\\local\\packages\\pythonsoftwarefoundation.python.3.13_qbz5n2kfra8p0\\localcache\\local-packages\\python313\\site-packages (from pandas) (2025.2)\n",
      "Requirement already satisfied: tzdata>=2022.7 in c:\\users\\hp\\appdata\\local\\packages\\pythonsoftwarefoundation.python.3.13_qbz5n2kfra8p0\\localcache\\local-packages\\python313\\site-packages (from pandas) (2025.2)\n",
      "Requirement already satisfied: six>=1.5 in c:\\users\\hp\\appdata\\local\\packages\\pythonsoftwarefoundation.python.3.13_qbz5n2kfra8p0\\localcache\\local-packages\\python313\\site-packages (from python-dateutil>=2.8.2->pandas) (1.17.0)\n"
     ]
    }
   ],
   "source": [
    "import sys\n",
    "!{sys.executable} -m pip install pandas\n"
   ]
  },
  {
   "cell_type": "code",
   "execution_count": 15,
   "id": "8d0dacc8",
   "metadata": {},
   "outputs": [],
   "source": [
    "import pandas as pd"
   ]
  },
  {
   "cell_type": "code",
   "execution_count": 16,
   "id": "82c61172",
   "metadata": {},
   "outputs": [],
   "source": [
    "\n",
    "\n",
    "data = {\n",
    "    'Name': ['John', 'Mary', 'Bob', 'Sarah', 'Tom', 'Lisa'],\n",
    "    'Department': ['IT', 'Marketing', 'Sales', 'IT', 'Finance', 'Marketing'],\n",
    "    'Age': [30, 40, 25, 35, 45, 28],\n",
    "    'Gender': ['Male', 'Female', 'Male', 'Female', 'Male', 'Female'],\n",
    "    'Salary': [50000, 60000, 45000, 55000, 70000, 55000],\n",
    "    'Experience': [3, 7, 2, 5, 10, 4]\n",
    "}\n",
    "\n",
    "employee_df = pd.DataFrame(data)\n"
   ]
  },
  {
   "cell_type": "code",
   "execution_count": 18,
   "id": "4987424c",
   "metadata": {},
   "outputs": [
    {
     "name": "stdout",
     "output_type": "stream",
     "text": [
      "   Name Department  Age  Gender  Salary  Experience\n",
      "0  John         IT   30    Male   50000           3\n",
      "1  Mary  Marketing   40  Female   60000           7\n",
      "2   Bob      Sales   25    Male   45000           2\n"
     ]
    }
   ],
   "source": [
    "first_three_rows = employee_df.iloc[:3]\n",
    "print(first_three_rows)\n"
   ]
  },
  {
   "cell_type": "code",
   "execution_count": 19,
   "id": "b761bc74",
   "metadata": {},
   "outputs": [
    {
     "name": "stdout",
     "output_type": "stream",
     "text": [
      "   Name Department  Age  Gender  Salary  Experience\n",
      "1  Mary  Marketing   40  Female   60000           7\n",
      "5  Lisa  Marketing   28  Female   55000           4\n"
     ]
    }
   ],
   "source": [
    "marketing_dept = employee_df.loc[employee_df['Department'] == 'Marketing']\n",
    "print(marketing_dept)\n"
   ]
  },
  {
   "cell_type": "code",
   "execution_count": 20,
   "id": "7ade2b99",
   "metadata": {},
   "outputs": [
    {
     "name": "stdout",
     "output_type": "stream",
     "text": [
      "   Age  Gender\n",
      "0   30    Male\n",
      "1   40  Female\n",
      "2   25    Male\n",
      "3   35  Female\n"
     ]
    }
   ],
   "source": [
    "# 'Age' is at index 2, 'Gender' is at index 3\n",
    "age_gender_first4 = employee_df.iloc[:4, [2, 3]]\n",
    "print(age_gender_first4)\n"
   ]
  },
  {
   "cell_type": "code",
   "execution_count": 21,
   "id": "e722f868",
   "metadata": {},
   "outputs": [
    {
     "name": "stdout",
     "output_type": "stream",
     "text": [
      "   Salary  Experience\n",
      "0   50000           3\n",
      "2   45000           2\n",
      "4   70000          10\n"
     ]
    }
   ],
   "source": [
    "male_salary_exp = employee_df.loc[employee_df['Gender'] == 'Male', ['Salary', 'Experience']]\n",
    "print(male_salary_exp)\n"
   ]
  },
  {
   "cell_type": "code",
   "execution_count": null,
   "id": "9cd10471",
   "metadata": {},
   "outputs": [],
   "source": []
  }
 ],
 "metadata": {
  "kernelspec": {
   "display_name": "Python 3",
   "language": "python",
   "name": "python3"
  },
  "language_info": {
   "codemirror_mode": {
    "name": "ipython",
    "version": 3
   },
   "file_extension": ".py",
   "mimetype": "text/x-python",
   "name": "python",
   "nbconvert_exporter": "python",
   "pygments_lexer": "ipython3",
   "version": "3.13.5"
  }
 },
 "nbformat": 4,
 "nbformat_minor": 5
}
